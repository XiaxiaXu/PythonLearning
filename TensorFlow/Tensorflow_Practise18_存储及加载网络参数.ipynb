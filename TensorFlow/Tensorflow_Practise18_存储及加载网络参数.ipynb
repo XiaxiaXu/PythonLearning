{
 "cells": [
  {
   "cell_type": "code",
   "execution_count": null,
   "metadata": {},
   "outputs": [],
   "source": [
    "# 网络的存储及加载\n",
    "# save / load weights, save/load entire model, saved_model\n",
    "model.save_weights('./checkpoints/my_checkpoint')\n",
    "\n",
    "# restore the weights\n",
    "model=create_model()\n",
    "model.load_weights('./checkpoints/my_checkpoint')\n",
    "\n",
    "loss,ac=model.evaluate(test_images,test_labels)"
   ]
  },
  {
   "cell_type": "code",
   "execution_count": null,
   "metadata": {},
   "outputs": [],
   "source": [
    "# 存储整个网络\n",
    "model.save('model.h5')\n",
    "del model\n",
    "\n",
    "network=tf.keras.models.load_model('model.h5')"
   ]
  },
  {
   "cell_type": "code",
   "execution_count": null,
   "metadata": {},
   "outputs": [],
   "source": [
    "# python 导出模型，其他语言可以使用\n",
    "tf.saved_model.save(m,'/tmp/saved_model/')\n",
    "imported=tf.save_model.load(path)\n",
    "f=imported.signatures['serving_default']"
   ]
  }
 ],
 "metadata": {
  "kernelspec": {
   "display_name": "Python 3",
   "language": "python",
   "name": "python3"
  },
  "language_info": {
   "codemirror_mode": {
    "name": "ipython",
    "version": 3
   },
   "file_extension": ".py",
   "mimetype": "text/x-python",
   "name": "python",
   "nbconvert_exporter": "python",
   "pygments_lexer": "ipython3",
   "version": "3.7.6"
  }
 },
 "nbformat": 4,
 "nbformat_minor": 4
}
