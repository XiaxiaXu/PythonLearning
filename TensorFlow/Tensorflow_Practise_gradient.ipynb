{
 "cells": [
  {
   "cell_type": "code",
   "execution_count": 1,
   "metadata": {},
   "outputs": [],
   "source": [
    "import tensorflow as tf"
   ]
  },
  {
   "cell_type": "code",
   "execution_count": 6,
   "metadata": {},
   "outputs": [
    {
     "name": "stdout",
     "output_type": "stream",
     "text": [
      "a: <bound method _EagerTensorBase.numpy of <tf.Tensor: shape=(10,), dtype=float32, numpy=\n",
      "array([-10.       ,  -7.7777777,  -5.5555553,  -3.333333 ,  -1.1111107,\n",
      "         1.1111116,   3.333334 ,   5.5555563,   7.7777786,  10.       ],\n",
      "      dtype=float32)>>\n",
      "y: <bound method _EagerTensorBase.numpy of <tf.Tensor: shape=(10,), dtype=float32, numpy=\n",
      "array([4.5397868e-05, 4.1876672e-04, 3.8510328e-03, 3.4445208e-02,\n",
      "       2.4766390e-01, 7.5233626e-01, 9.6555483e-01, 9.9614894e-01,\n",
      "       9.9958128e-01, 9.9995458e-01], dtype=float32)>>\n",
      "grads: [<tf.Tensor: shape=(10,), dtype=float32, numpy=\n",
      "array([4.5395806e-05, 4.1859134e-04, 3.8362022e-03, 3.3258736e-02,\n",
      "       1.8632649e-01, 1.8632641e-01, 3.3258699e-02, 3.8362255e-03,\n",
      "       4.1854731e-04, 4.5416677e-05], dtype=float32)>]\n"
     ]
    }
   ],
   "source": [
    "# sigmoid 函数， 梯度消失问题\n",
    "a=tf.linspace(-10.0,10.0,10)\n",
    "with tf.GradientTape() as tape:\n",
    "    tape.watch(a)\n",
    "    y=tf.sigmoid(a)\n",
    "grads=tape.gradient(y,[a])\n",
    "\n",
    "print('a:',a.numpy)\n",
    "print('y:',y.numpy)\n",
    "print('grads:',grads)"
   ]
  },
  {
   "cell_type": "code",
   "execution_count": 7,
   "metadata": {},
   "outputs": [
    {
     "name": "stdout",
     "output_type": "stream",
     "text": [
      "a: <bound method _EagerTensorBase.numpy of <tf.Tensor: shape=(10,), dtype=float32, numpy=\n",
      "array([-5.        , -3.8888888 , -2.7777777 , -1.6666665 , -0.55555534,\n",
      "        0.5555558 ,  1.666667  ,  2.7777781 ,  3.8888893 ,  5.        ],\n",
      "      dtype=float32)>>\n",
      "y: <bound method _EagerTensorBase.numpy of <tf.Tensor: shape=(10,), dtype=float32, numpy=\n",
      "array([-0.9999092 , -0.9991625 , -0.99229795, -0.9311096 , -0.50467217,\n",
      "        0.5046725 ,  0.93110967,  0.99229795,  0.9991625 ,  0.9999092 ],\n",
      "      dtype=float32)>>\n",
      "grads: [<tf.Tensor: shape=(10,), dtype=float32, numpy=\n",
      "array([1.8154751e-04, 1.6743083e-03, 1.5344784e-02, 1.3303490e-01,\n",
      "       7.4530602e-01, 7.4530566e-01, 1.3303480e-01, 1.5344784e-02,\n",
      "       1.6743083e-03, 1.8154751e-04], dtype=float32)>]\n"
     ]
    }
   ],
   "source": [
    "# tanh函数， 梯度消失问题\n",
    "a=tf.linspace(-5.0,5.0,10)\n",
    "with tf.GradientTape() as tape:\n",
    "    tape.watch(a)\n",
    "    y=tf.tanh(a)\n",
    "grads=tape.gradient(y,[a])\n",
    "\n",
    "print('a:',a.numpy)\n",
    "print('y:',y.numpy)\n",
    "print('grads:',grads)"
   ]
  },
  {
   "cell_type": "code",
   "execution_count": 13,
   "metadata": {},
   "outputs": [
    {
     "name": "stdout",
     "output_type": "stream",
     "text": [
      "a: <bound method _EagerTensorBase.numpy of <tf.Tensor: shape=(10,), dtype=float32, numpy=\n",
      "array([-1.        , -0.7777778 , -0.5555556 , -0.3333333 , -0.1111111 ,\n",
      "        0.11111116,  0.33333337,  0.5555556 ,  0.7777778 ,  1.        ],\n",
      "      dtype=float32)>>\n",
      "y: <bound method _EagerTensorBase.numpy of <tf.Tensor: shape=(10,), dtype=float32, numpy=\n",
      "array([-0.2       , -0.15555556, -0.11111112, -0.06666666, -0.02222222,\n",
      "        0.11111116,  0.33333337,  0.5555556 ,  0.7777778 ,  1.        ],\n",
      "      dtype=float32)>>\n",
      "grads: [<tf.Tensor: shape=(10,), dtype=float32, numpy=array([0.2, 0.2, 0.2, 0.2, 0.2, 1. , 1. , 1. , 1. , 1. ], dtype=float32)>]\n"
     ]
    }
   ],
   "source": [
    "# relu函数， 梯度消失问题\n",
    "a=tf.linspace(-1.0,1.0,10)\n",
    "with tf.GradientTape() as tape:\n",
    "    tape.watch(a)\n",
    "    #y=tf.nn.relu(a)\n",
    "    y=tf.nn.leaky_relu(a)\n",
    "grads=tape.gradient(y,[a])\n",
    "\n",
    "print('a:',a.numpy)\n",
    "print('y:',y.numpy)\n",
    "print('grads:',grads)\n"
   ]
  },
  {
   "cell_type": "code",
   "execution_count": null,
   "metadata": {},
   "outputs": [],
   "source": []
  }
 ],
 "metadata": {
  "kernelspec": {
   "display_name": "Python 3",
   "language": "python",
   "name": "python3"
  },
  "language_info": {
   "codemirror_mode": {
    "name": "ipython",
    "version": 3
   },
   "file_extension": ".py",
   "mimetype": "text/x-python",
   "name": "python",
   "nbconvert_exporter": "python",
   "pygments_lexer": "ipython3",
   "version": "3.7.6"
  }
 },
 "nbformat": 4,
 "nbformat_minor": 4
}
