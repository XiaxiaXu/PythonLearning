{
 "cells": [
  {
   "cell_type": "code",
   "execution_count": 1,
   "metadata": {},
   "outputs": [],
   "source": [
    "import tensorflow as tf"
   ]
  },
  {
   "cell_type": "code",
   "execution_count": 17,
   "metadata": {},
   "outputs": [
    {
     "name": "stdout",
     "output_type": "stream",
     "text": [
      "a: [0 1 2 3 4 5 6 7 8 9]\n",
      "[2 2 2 3 4 5 6 7 8 9]\n",
      "[0 1 2 3 4 5 6 7 8 8]\n",
      "[2 2 2 3 4 5 6 7 8 8]\n"
     ]
    }
   ],
   "source": [
    "# 张量限幅\n",
    "# clip_by_value; \n",
    "a=tf.range(10)\n",
    "print('a:',a.numpy())\n",
    "\n",
    "print(tf.maximum(a,2).numpy())\n",
    "print(tf.minimum(a,8).numpy())\n",
    "\n",
    "print(tf.clip_by_value(a,2,8).numpy())\n"
   ]
  },
  {
   "cell_type": "code",
   "execution_count": 29,
   "metadata": {},
   "outputs": [
    {
     "name": "stdout",
     "output_type": "stream",
     "text": [
      "[[ 8.74183   9.817571]\n",
      " [ 9.996708 11.386528]]\n",
      "20.059698\n",
      "[[6.53686   7.341265 ]\n",
      " [7.4752183 8.514481 ]]\n",
      "14.999999\n"
     ]
    }
   ],
   "source": [
    "# clip_by_norm\n",
    "a=tf.random.normal([2,2],mean=10)\n",
    "print(a.numpy())\n",
    "print(tf.norm(a).numpy())\n",
    "\n",
    "aa=tf.clip_by_norm(a,15)\n",
    "print(aa.numpy())\n",
    "\n",
    "print(tf.norm(aa).numpy())"
   ]
  },
  {
   "cell_type": "code",
   "execution_count": null,
   "metadata": {},
   "outputs": [],
   "source": [
    "# gradient clipping\n",
    "#new_grads,total_norm=tf.clip_by_global_norm(grads,25)"
   ]
  },
  {
   "cell_type": "code",
   "execution_count": null,
   "metadata": {},
   "outputs": [],
   "source": [
    "(x,y),_ = datasets.mnist.load_data()\n",
    "x=tf.convert_to_tensor(x,dtype=tf.float32)/50\n",
    "\n",
    "\n",
    "\n",
    "\n"
   ]
  }
 ],
 "metadata": {
  "kernelspec": {
   "display_name": "Python 3",
   "language": "python",
   "name": "python3"
  },
  "language_info": {
   "codemirror_mode": {
    "name": "ipython",
    "version": 3
   },
   "file_extension": ".py",
   "mimetype": "text/x-python",
   "name": "python",
   "nbconvert_exporter": "python",
   "pygments_lexer": "ipython3",
   "version": "3.7.6"
  }
 },
 "nbformat": 4,
 "nbformat_minor": 4
}
