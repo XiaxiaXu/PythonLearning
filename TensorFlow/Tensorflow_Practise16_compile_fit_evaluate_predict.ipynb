{
 "cells": [
  {
   "cell_type": "code",
   "execution_count": null,
   "metadata": {},
   "outputs": [],
   "source": [
    "# compile,fit,evaluate, predict\n",
    "network.compile(optimizer=optimizers.Adam(lr=0.01),\n",
    "               loss=tf.losses.CategoricalCrossentropy(from_logits=True),\n",
    "               metrics=['accuracy']\n",
    "               )\n",
    "\n",
    "network.fit(db,epochs=10,validation_data=ds_val,validation_freq=2) # 每多少个epoch重复一次validation\n",
    "\n",
    "#有时训练需要时间太长，那就需要设定条件，提前结束训练\n",
    "if test_acc>0.99:\n",
    "    save\n",
    "    break\n",
    "    \n",
    "# 然后，做最后一次测试\n",
    "network.evaluate(ds_val)\n",
    "\n",
    "# 预测\n",
    "pre=network.predict(x)"
   ]
  },
  {
   "cell_type": "code",
   "execution_count": null,
   "metadata": {},
   "outputs": [],
   "source": []
  }
 ],
 "metadata": {
  "kernelspec": {
   "display_name": "Python 3",
   "language": "python",
   "name": "python3"
  },
  "language_info": {
   "codemirror_mode": {
    "name": "ipython",
    "version": 3
   },
   "file_extension": ".py",
   "mimetype": "text/x-python",
   "name": "python",
   "nbconvert_exporter": "python",
   "pygments_lexer": "ipython3",
   "version": "3.7.6"
  }
 },
 "nbformat": 4,
 "nbformat_minor": 4
}
