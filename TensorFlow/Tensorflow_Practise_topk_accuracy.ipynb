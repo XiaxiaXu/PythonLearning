{
 "cells": [
  {
   "cell_type": "code",
   "execution_count": 1,
   "metadata": {},
   "outputs": [],
   "source": [
    "import os\n",
    "os.environ['TF_CPP_MIN_LOG_LEVEL'] = '2' # 仅打印error\n",
    "import tensorflow as tf"
   ]
  },
  {
   "cell_type": "code",
   "execution_count": null,
   "metadata": {},
   "outputs": [],
   "source": [
    "# tf.norm(ord=1,axis=0);\n",
    "# tf.reduce_min,tf.reduce_max,tf.reduce_sum, tf.reduce_mean\n",
    "# tf.concat([],axis)\n",
    "# tf.split()\n",
    "# tf.stack()\n",
    "# tf.unstack()\n",
    "\n",
    "# tf.argmax(); tf.argmin()\n",
    "# tf.gather(uniquevalue, idx=[])\n"
   ]
  },
  {
   "cell_type": "code",
   "execution_count": 9,
   "metadata": {},
   "outputs": [
    {
     "name": "stdout",
     "output_type": "stream",
     "text": [
      "tf.Tensor([2 3 0 1 4], shape=(5,), dtype=int32)\n",
      "tf.Tensor([4 3 2 1 0], shape=(5,), dtype=int32)\n",
      "tf.Tensor([4 1 0 3 2], shape=(5,), dtype=int32)\n",
      "tf.Tensor([4 3 2 1 0], shape=(5,), dtype=int32)\n",
      "tf.Tensor([4 3], shape=(2,), dtype=int32)\n",
      "tf.Tensor([4 1], shape=(2,), dtype=int32)\n"
     ]
    }
   ],
   "source": [
    "# 排序\n",
    "# tf.sort; tf.argsort()\n",
    "# tf.math.top_k(a,k)\n",
    "a=tf.random.shuffle(tf.range(5))\n",
    "print(a)\n",
    "print(tf.sort(a, direction='DESCENDING'))\n",
    "print(tf.argsort(a,direction='DESCENDING'))\n",
    "\n",
    "idx=tf.argsort(a,direction='DESCENDING')\n",
    "print(tf.gather(a, idx))\n",
    "\n",
    "res=tf.math.top_k(a,2)\n",
    "print(res.values)\n",
    "print(res.indices)"
   ]
  },
  {
   "cell_type": "code",
   "execution_count": 8,
   "metadata": {},
   "outputs": [],
   "source": [
    "# top k accuracy\n",
    "def accuracy (output, target,topk=(1,)):\n",
    "    maxk=max(topk)\n",
    "    batch_size=target.shape[0]\n",
    "    \n",
    "    pred= tf.math.top_k(output,maxk).indices\n",
    "    pred= tf.transpose(pred,perm=[1,0])\n",
    "    \n",
    "    target_=tf.broadcast_to(target,pred.shape)\n",
    "    correct=tf.equal(pred,target_)\n",
    "    \n",
    "    res=[]\n",
    "    for k in topk:\n",
    "        correct_k = tf.cast(tf.reshape(correct[:k],[-1]),dtype=tf.float32)\n",
    "        correct_k = tf.reduce_sum(correct_k)\n",
    "        acc=float(100*correct_k/batch_size)\n",
    "        res.append(acc)\n",
    "        \n",
    "    return res"
   ]
  },
  {
   "cell_type": "code",
   "execution_count": 9,
   "metadata": {},
   "outputs": [
    {
     "name": "stdout",
     "output_type": "stream",
     "text": [
      "prob: [[0.34058818 0.08478226 0.3542981  0.14553182 0.05255574 0.02224393]\n",
      " [0.2578358  0.10143638 0.06435652 0.08376305 0.14919016 0.34341815]\n",
      " [0.11798612 0.27782145 0.2726635  0.15347153 0.01416239 0.16389506]\n",
      " [0.19310333 0.18103242 0.09105074 0.08183169 0.05066606 0.4023158 ]\n",
      " [0.10631447 0.13052502 0.17966488 0.12458062 0.3916076  0.06730731]\n",
      " [0.06607252 0.26831734 0.00527319 0.04529761 0.07752501 0.5375143 ]\n",
      " [0.6052705  0.101074   0.17439076 0.02986377 0.05504066 0.03436027]\n",
      " [0.12916143 0.04967189 0.13414986 0.3338912  0.21397844 0.13914713]\n",
      " [0.4398982  0.08674557 0.13879223 0.24607497 0.05675685 0.0317322 ]\n",
      " [0.11418805 0.29575384 0.06104372 0.12794892 0.21328953 0.18777592]]\n",
      "pred: [2 5 1 5 4 5 0 3 0 1]\n",
      "label: [3 1 1 0 0 1 1 5 4 1]\n",
      "top1-4 acc: [20.0, 40.0, 70.0, 80.0, 100.0, 100.0]\n"
     ]
    }
   ],
   "source": [
    "output=tf.random.normal([10,6])\n",
    "output = tf.math.softmax(output,axis=1)\n",
    "target=tf.random.uniform([10],maxval=6,dtype=tf.int32)\n",
    "\n",
    "print('prob:',output.numpy())\n",
    "\n",
    "pred= tf.argmax(output,axis=1)\n",
    "print('pred:',pred.numpy())\n",
    "print('label:',target.numpy())\n",
    "\n",
    "acc=accuracy(output,target,topk=(1,2,3,4,5,6))\n",
    "print('top1-4 acc:',acc)"
   ]
  },
  {
   "cell_type": "code",
   "execution_count": null,
   "metadata": {},
   "outputs": [],
   "source": []
  }
 ],
 "metadata": {
  "kernelspec": {
   "display_name": "Python 3",
   "language": "python",
   "name": "python3"
  },
  "language_info": {
   "codemirror_mode": {
    "name": "ipython",
    "version": 3
   },
   "file_extension": ".py",
   "mimetype": "text/x-python",
   "name": "python",
   "nbconvert_exporter": "python",
   "pygments_lexer": "ipython3",
   "version": "3.7.6"
  }
 },
 "nbformat": 4,
 "nbformat_minor": 4
}
