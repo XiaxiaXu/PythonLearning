{
 "cells": [
  {
   "cell_type": "code",
   "execution_count": null,
   "metadata": {},
   "outputs": [],
   "source": [
    "# 自定义layer及网络，很重要\n",
    "\n",
    "# keras.Sequential, keras.layers.Layer, keras.Model\n",
    "\n",
    "# model.trainale_variables, model.call()\n",
    "\n",
    "class MyDense(layers.Layer): # 继承layers.Layer\n",
    "    def __init__(self, inp_dim, outp_dim):\n",
    "        super(MyDense,self).__init__()  # 继承layers.Layer\n",
    "        \n",
    "        self.kernel=self.add_variable('w',[inp_dim,outp_dim])  # 可自由发挥的部分\n",
    "        self.bias=self.add_variable('b',[outp_dim])            # 可自由发挥的部分\n",
    "        \n",
    "    def call(self,inputs,training=None):         # \n",
    "        out=input@self.kernal+self.bias\n",
    "        return out\n",
    "    \n",
    "class MyModel(keras.Model): # 继承Model类\n",
    "    def __init__(self):\n",
    "        super(MyModel,self).__init__()\n",
    "        self.fc1=MyDense(28*28,256)\n",
    "        self.fc2=MyDense(256,128)\n",
    "        self.fc3=MyDense(128,64)\n",
    "        self.fc4=MyDense(64,32)\n",
    "        self.fc5=MyDense(32,10)\n",
    "        \n",
    "    def call(self,inputs,training=None):\n",
    "        x=self.fc1(inputs)\n",
    "        x=tf.nn.relu(x)\n",
    "        x=self.fc2(x)\n",
    "        x=tf.nn.relu(x)\n",
    "        x=self.fc3(x)\n",
    "        x=tf.nn.relu(x)\n",
    "        x=tf.f4(x)\n",
    "        x=tf.nn.relu(x)\n",
    "        x=tf.f5(x)\n",
    "        return x\n",
    "    "
   ]
  }
 ],
 "metadata": {
  "kernelspec": {
   "display_name": "Python 3",
   "language": "python",
   "name": "python3"
  },
  "language_info": {
   "codemirror_mode": {
    "name": "ipython",
    "version": 3
   },
   "file_extension": ".py",
   "mimetype": "text/x-python",
   "name": "python",
   "nbconvert_exporter": "python",
   "pygments_lexer": "ipython3",
   "version": "3.7.6"
  }
 },
 "nbformat": 4,
 "nbformat_minor": 4
}
