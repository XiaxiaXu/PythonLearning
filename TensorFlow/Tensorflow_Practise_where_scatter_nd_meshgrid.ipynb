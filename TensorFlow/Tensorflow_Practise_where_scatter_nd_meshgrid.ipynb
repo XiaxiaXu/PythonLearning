{
 "cells": [
  {
   "cell_type": "code",
   "execution_count": 1,
   "metadata": {},
   "outputs": [],
   "source": [
    "import tensorflow as tf"
   ]
  },
  {
   "cell_type": "code",
   "execution_count": 4,
   "metadata": {},
   "outputs": [
    {
     "name": "stdout",
     "output_type": "stream",
     "text": [
      "[[ 0.6720385  -0.01031734 -0.03729183]\n",
      " [-0.04012383  1.3340611  -2.3645973 ]\n",
      " [-0.03031069 -0.54227346  0.5382785 ]]\n",
      "[[ True False False]\n",
      " [False  True False]\n",
      " [False False  True]]\n",
      "[0.6720385 1.3340611 0.5382785]\n",
      "indices: [[0 0]\n",
      " [1 1]\n",
      " [2 2]]\n",
      "[0.6720385 1.3340611 0.5382785]\n"
     ]
    }
   ],
   "source": [
    "# where,\n",
    "a=tf.random.normal([3,3])\n",
    "print(a.numpy())\n",
    "mask=a>0\n",
    "print(mask.numpy())\n",
    "\n",
    "a_=tf.boolean_mask(a,mask)\n",
    "print(a_.numpy())\n",
    "\n",
    "indices=tf.where(mask)\n",
    "print('indices:',indices.numpy())\n",
    "\n",
    "a_positive=tf.gather_nd(a,indices)\n",
    "print(a_positive.numpy())"
   ]
  },
  {
   "cell_type": "code",
   "execution_count": 6,
   "metadata": {},
   "outputs": [
    {
     "data": {
      "text/plain": [
       "<tf.Tensor: shape=(8,), dtype=int32, numpy=array([ 0, 11,  0, 10,  9,  0,  0, 12])>"
      ]
     },
     "execution_count": 6,
     "metadata": {},
     "output_type": "execute_result"
    }
   ],
   "source": [
    "#scatter_nd, meshgrid\n",
    "indices=tf.constant([[4],[3],[1],[7]])\n",
    "updata=tf.constant([9,10,11,12])\n",
    "shape=tf.constant([8])\n",
    "\n",
    "tf.scatter_nd(indices, updata,shape)"
   ]
  },
  {
   "cell_type": "code",
   "execution_count": null,
   "metadata": {},
   "outputs": [],
   "source": []
  }
 ],
 "metadata": {
  "kernelspec": {
   "display_name": "Python 3",
   "language": "python",
   "name": "python3"
  },
  "language_info": {
   "codemirror_mode": {
    "name": "ipython",
    "version": 3
   },
   "file_extension": ".py",
   "mimetype": "text/x-python",
   "name": "python",
   "nbconvert_exporter": "python",
   "pygments_lexer": "ipython3",
   "version": "3.7.6"
  }
 },
 "nbformat": 4,
 "nbformat_minor": 4
}
