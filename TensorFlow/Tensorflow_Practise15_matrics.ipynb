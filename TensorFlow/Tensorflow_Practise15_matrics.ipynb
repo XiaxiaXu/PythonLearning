{
 "cells": [
  {
   "cell_type": "code",
   "execution_count": null,
   "metadata": {},
   "outputs": [],
   "source": [
    "import tensorflow as tf\n",
    "from tensorflow import keras"
   ]
  },
  {
   "cell_type": "code",
   "execution_count": null,
   "metadata": {},
   "outputs": [],
   "source": [
    "# 新建\n",
    "acc_meter=metrics.Accuracy()\n",
    "loss_meter=metrics.mean()\n",
    "\n",
    "# update\n",
    "acc_meter.update_state(y,y_predict)\n",
    "loss_meter.update_state(loss)\n",
    "\n",
    "# 重新初始化\n",
    "acc_meter.reset_states()\n",
    "loss_meter.reset_states()\n",
    "\n",
    "# 获取结果\n",
    "acc_meter.result().numpy()\n",
    "loss_meter.result().numpy()\n"
   ]
  }
 ],
 "metadata": {
  "kernelspec": {
   "display_name": "Python 3",
   "language": "python",
   "name": "python3"
  },
  "language_info": {
   "codemirror_mode": {
    "name": "ipython",
    "version": 3
   },
   "file_extension": ".py",
   "mimetype": "text/x-python",
   "name": "python",
   "nbconvert_exporter": "python",
   "pygments_lexer": "ipython3",
   "version": "3.7.6"
  }
 },
 "nbformat": 4,
 "nbformat_minor": 4
}
