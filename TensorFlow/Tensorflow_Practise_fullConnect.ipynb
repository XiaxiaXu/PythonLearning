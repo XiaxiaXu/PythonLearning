{
 "cells": [
  {
   "cell_type": "code",
   "execution_count": 1,
   "metadata": {},
   "outputs": [],
   "source": [
    "import tensorflow as tf\n",
    "from tensorflow import keras"
   ]
  },
  {
   "cell_type": "code",
   "execution_count": 10,
   "metadata": {},
   "outputs": [
    {
     "name": "stdout",
     "output_type": "stream",
     "text": [
      "Model: \"sequential_7\"\n",
      "_________________________________________________________________\n",
      "Layer (type)                 Output Shape              Param #   \n",
      "=================================================================\n",
      "dense_23 (Dense)             multiple                  8         \n",
      "_________________________________________________________________\n",
      "dense_24 (Dense)             multiple                  6         \n",
      "_________________________________________________________________\n",
      "dense_25 (Dense)             multiple                  6         \n",
      "=================================================================\n",
      "Total params: 20\n",
      "Trainable params: 20\n",
      "Non-trainable params: 0\n",
      "_________________________________________________________________\n",
      "dense_23/kernel:0 (3, 2)\n",
      "dense_23/bias:0 (2,)\n",
      "dense_24/kernel:0 (2, 2)\n",
      "dense_24/bias:0 (2,)\n",
      "dense_25/kernel:0 (2, 2)\n",
      "dense_25/bias:0 (2,)\n",
      "tf.Tensor(\n",
      "[[ 0.6152877   1.2333053 ]\n",
      " [ 0.3628468  -0.42360565]], shape=(2, 2), dtype=float32)\n"
     ]
    }
   ],
   "source": [
    "x=tf.random.normal([2,3])\n",
    "model=keras.Sequential([\n",
    "    keras.layers.Dense(2,activation='relu'),\n",
    "    keras.layers.Dense(2,activation='relu'),\n",
    "    keras.layers.Dense(2)\n",
    "])\n",
    "\n",
    "model.build(input_shape=[None,3])\n",
    "model.summary()\n",
    "\n",
    "for p in model.trainable_variables:\n",
    "    print(p.name, p.shape)\n",
    "    \n",
    "out=model(x)\n",
    "print(out)"
   ]
  },
  {
   "cell_type": "code",
   "execution_count": null,
   "metadata": {},
   "outputs": [],
   "source": []
  }
 ],
 "metadata": {
  "kernelspec": {
   "display_name": "Python 3",
   "language": "python",
   "name": "python3"
  },
  "language_info": {
   "codemirror_mode": {
    "name": "ipython",
    "version": 3
   },
   "file_extension": ".py",
   "mimetype": "text/x-python",
   "name": "python",
   "nbconvert_exporter": "python",
   "pygments_lexer": "ipython3",
   "version": "3.7.6"
  }
 },
 "nbformat": 4,
 "nbformat_minor": 4
}
