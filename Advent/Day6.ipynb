{
 "cells": [
  {
   "cell_type": "code",
   "execution_count": 1,
   "metadata": {},
   "outputs": [],
   "source": [
    "import pandas as pd\n",
    "import numpy as np\n",
    "import re\n",
    "\n",
    "df=pd.read_excel('D:/DataScience/Advent/Day6.xlsx', header=None,skip_blank_lines=False)\n"
   ]
  },
  {
   "cell_type": "code",
   "execution_count": 2,
   "metadata": {},
   "outputs": [],
   "source": [
    "df_num=df.to_numpy()\n",
    "Sep=np.argwhere(pd.isnull(df_num)); \n",
    "Sep1=Sep[:,0]+1\n",
    "Sep2=Sep[:,0]\n",
    "\n",
    "Sep1=np.insert(Sep1,0,0)\n",
    "Sep2=np.append(Sep2,len(df_num))\n",
    "\n",
    "df_list=list(df.values.flatten())\n",
    "\n",
    "Num=len(Sep1)\n",
    "df_list_group=list();\n",
    "\n",
    "i=0;\n",
    "for i in range(0,Num):\n",
    "    combine_information=''\n",
    "    j=Sep1[i];\n",
    "    for j in range(Sep1[i],Sep2[i]):        \n",
    "        combine_information=combine_information+df_list[j]+' '\n",
    "    df_list_group.append(combine_information)"
   ]
  },
  {
   "cell_type": "code",
   "execution_count": 3,
   "metadata": {},
   "outputs": [
    {
     "name": "stdout",
     "output_type": "stream",
     "text": [
      "6430\n"
     ]
    }
   ],
   "source": [
    "Sum_group=[]\n",
    "for i in range(0,len(df_list_group)):\n",
    "    x=df_list_group[i]\n",
    "    x=set(x)\n",
    "    Sum_group.append(len(x)-1)\n",
    "    \n",
    "print(sum(Sum_group))"
   ]
  },
  {
   "cell_type": "code",
   "execution_count": 4,
   "metadata": {},
   "outputs": [
    {
     "data": {
      "text/plain": [
       "3125"
      ]
     },
     "execution_count": 4,
     "metadata": {},
     "output_type": "execute_result"
    }
   ],
   "source": [
    "Sum_group=[]\n",
    "for i in range(0,len(df_list_group)):\n",
    "    x=df_list_group[i]\n",
    "    y=x.split(' ')\n",
    "    num=len(y)-1\n",
    "    #print(x)\n",
    "   \n",
    "    xx=list(set(x))\n",
    "    for j in range(0,len(xx)):\n",
    "        c=xx[j]\n",
    "       \n",
    "        if num==x.count(c):\n",
    "            Sum_group.append(1)\n",
    "            #print(c,x.count(c))\n",
    "                    \n",
    "sum(Sum_group)-len(df_list_group)"
   ]
  },
  {
   "cell_type": "code",
   "execution_count": null,
   "metadata": {},
   "outputs": [],
   "source": []
  }
 ],
 "metadata": {
  "kernelspec": {
   "display_name": "Python 3",
   "language": "python",
   "name": "python3"
  },
  "language_info": {
   "codemirror_mode": {
    "name": "ipython",
    "version": 3
   },
   "file_extension": ".py",
   "mimetype": "text/x-python",
   "name": "python",
   "nbconvert_exporter": "python",
   "pygments_lexer": "ipython3",
   "version": "3.7.6"
  }
 },
 "nbformat": 4,
 "nbformat_minor": 4
}
