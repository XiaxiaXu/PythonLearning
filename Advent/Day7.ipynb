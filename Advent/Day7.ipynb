{
 "cells": [
  {
   "cell_type": "code",
   "execution_count": 183,
   "metadata": {},
   "outputs": [],
   "source": [
    "import pandas as pd\n",
    "import numpy as np\n",
    "import re\n",
    "\n",
    "df=pd.read_excel('D:/DataScience/Advent/Day7.xlsx', header=None,skip_blank_lines=False)\n",
    "df.head()\n",
    "df_num=df.to_numpy()"
   ]
  },
  {
   "cell_type": "code",
   "execution_count": 184,
   "metadata": {},
   "outputs": [
    {
     "name": "stdout",
     "output_type": "stream",
     "text": [
      "[['faded indigo', 'muted purple'], ['striped plum']]\n",
      "[['5', '3'], ['4']]\n"
     ]
    }
   ],
   "source": [
    "R_bag=[]\n",
    "R_inbag=[]\n",
    "Rnum_inbag=[]\n",
    "for i in range(0,len(df_num)):\n",
    "    R=[]\n",
    "    Rnum=[]\n",
    "    x=df_num[i]\n",
    "    x=np.array_str(x)\n",
    "    x=x.split('bags',1)\n",
    "    \n",
    "    bag=x[0][2:-1]\n",
    "    R_bag.append(bag)\n",
    "    contain=x[1][1:-3]\n",
    "    inbags=contain.split(',')\n",
    "    for j in range(0,len(inbags)):\n",
    "        y=inbags[j].split(' ')\n",
    "        if inbags[j].find('bags')==-1:\n",
    "            id=y.index('bag')\n",
    "        else:\n",
    "            id=y.index('bags')\n",
    "        R.append(' '.join(y[id-2:id]))\n",
    "        Rnum.append(y[id-3])\n",
    "    R_inbag.append(R)\n",
    "    Rnum_inbag.append(Rnum)\n",
    "    \n",
    "print(R_inbag[0:2])\n",
    "print(Rnum_inbag[0:2])"
   ]
  },
  {
   "cell_type": "code",
   "execution_count": 185,
   "metadata": {},
   "outputs": [
    {
     "name": "stdout",
     "output_type": "stream",
     "text": [
      "186\n"
     ]
    }
   ],
   "source": [
    "\n",
    "Collection=['shiny gold']\n",
    "\n",
    "for lo in range(0,20):\n",
    "    for i in range(0,len(R_bag)):\n",
    "        bag=R_bag[i]\n",
    "        inbags=R_inbag[i]\n",
    "\n",
    "        for j in range(0,len(Collection)):\n",
    "            flag=Collection[j]\n",
    "            if flag in inbags:\n",
    "                Collection.append(R_bag[i])\n",
    "\n",
    "        Collection=list(set(Collection))\n",
    "            \n",
    "\n",
    "print(len(Collection))            \n"
   ]
  },
  {
   "cell_type": "code",
   "execution_count": 186,
   "metadata": {},
   "outputs": [
    {
     "name": "stdout",
     "output_type": "stream",
     "text": [
      "shiny gold\n",
      "['plaid bronze', 'bright fuchsia', 'light violet', 'clear plum']\n",
      "['5', '4', '2', '1']\n",
      "['shiny gold bags contain 5 plaid bronze bags, 4 bright fuchsia bags, 2 light violet bags, 1 clear plum bag.']\n"
     ]
    }
   ],
   "source": [
    "# testing\n",
    "id_shiny=R_bag.index('shiny gold')\n",
    "print(R_bag[id_shiny])\n",
    "print(R_inbag[id_shiny])\n",
    "print(Rnum_inbag[id_shiny])\n",
    "print(df_num[id_shiny])\n"
   ]
  },
  {
   "cell_type": "code",
   "execution_count": 187,
   "metadata": {},
   "outputs": [
    {
     "name": "stdout",
     "output_type": "stream",
     "text": [
      "['muted crimson', 'clear plum', 'dim maroon', 'light tomato', 'wavy indigo', 'dotted brown', 'plaid bronze', 'dark aqua', 'clear maroon', 'bright fuchsia']\n"
     ]
    }
   ],
   "source": [
    "Collections_stop=[]\n",
    "for i in range(0,len(R_inbag)):\n",
    "    x=R_inbag[i]\n",
    "    if 'no other' in x:\n",
    "        Collections_stop.append(R_bag[i])\n",
    "        \n",
    "print(Collections_stop)     "
   ]
  },
  {
   "cell_type": "code",
   "execution_count": 197,
   "metadata": {
    "scrolled": false
   },
   "outputs": [
    {
     "name": "stdout",
     "output_type": "stream",
     "text": [
      "['5', '4', '2', '1']\n",
      "5 ----------------------------------------------------- plaid bronze\n",
      "4 ----------------------------------------------------- bright fuchsia\n",
      "2 ** light violet\n",
      "['5', '4', '2', '1']\n",
      "1 ----------------------------------------------------- clear plum\n",
      "5 ** faded teal\n",
      "['5', '1', '4', '5']\n",
      "1 ** light gray\n",
      "['5', '1', '4', '5']\n",
      "4 ** bright turquoise\n",
      "['5', '1', '4', '5']\n",
      "5 ** posh crimson\n",
      "['5', '1', '4', '5']\n",
      "1 ----------------------------------------------------- dark aqua\n",
      "5 ** posh teal\n",
      "['1', '5', '3', '2', '5', '3', '5']\n",
      "3 ** dull aqua\n",
      "['1', '5', '3', '2', '5', '3', '5']\n",
      "2 ** wavy yellow\n",
      "['1', '5', '3', '2', '5', '3', '5']\n",
      "5 ** drab magenta\n",
      "['1', '5', '3', '2', '5', '3', '5']\n",
      "3 ** vibrant beige\n",
      "['1', '5', '3', '2', '5', '3', '5']\n",
      "5 ** posh crimson\n",
      "['1', '5', '3', '2', '5', '3', '5']\n",
      "1 ----------------------------------------------------- dark aqua\n",
      "4 ** posh teal\n",
      "['1', '4', '1', '2', '3', '4', '2', '4', '2', '2', '5', '3', '3', '5', '3', '5']\n",
      "1 ** dull aqua\n",
      "['1', '4', '1', '2', '3', '4', '2', '4', '2', '2', '5', '3', '3', '5', '3', '5']\n",
      "2 ** drab magenta\n",
      "['1', '4', '1', '2', '3', '4', '2', '4', '2', '2', '5', '3', '3', '5', '3', '5']\n",
      "3 ----------------------------------------------------- dim maroon\n",
      "4 ** bright turquoise\n",
      "['1', '4', '1', '2', '3', '4', '2', '4', '2', '2', '5', '3', '3', '5', '3', '5']\n",
      "2 ** dim plum\n",
      "['1', '4', '1', '2', '3', '4', '2', '4', '2', '2', '5', '3', '3', '5', '3', '5']\n",
      "4 ----------------------------------------------------- wavy indigo\n",
      "2 ----------------------------------------------------- dark aqua\n",
      "2 ----------------------------------------------------- dotted brown\n",
      "5 ----------------------------------------------------- muted crimson\n",
      "3 ----------------------------------------------------- light tomato\n",
      "3 ** shiny blue\n",
      "['1', '4', '1', '2', '3', '4', '2', '4', '2', '2', '5', '3', '3', '5', '3', '5']\n",
      "5 ----------------------------------------------------- clear plum\n",
      "3 ** faded black\n",
      "['1', '4', '1', '2', '3', '4', '2', '4', '2', '2', '5', '3', '3', '5', '3', '5']\n",
      "5 ** dim crimson\n",
      "['1', '4', '1', '2', '3', '4', '2', '4', '2', '2', '5', '3', '3', '5', '3', '5']\n",
      "1 ----------------------------------------------------- light tomato\n",
      "4 ----------------------------------------------------- muted crimson\n",
      "1 ----------------------------------------------------- plaid bronze\n",
      "2 ** faded tomato\n",
      "['1', '4', '1', '2', '4', '2', '4', '2', '2', '2', '3', '2', '4', '3', '5', '3', '5', '4', '2']\n",
      "4 ** drab magenta\n",
      "['1', '4', '1', '2', '4', '2', '4', '2', '2', '2', '3', '2', '4', '3', '5', '3', '5', '4', '2']\n",
      "2 ** dim plum\n",
      "['1', '4', '1', '2', '4', '2', '4', '2', '2', '2', '3', '2', '4', '3', '5', '3', '5', '4', '2']\n",
      "4 ----------------------------------------------------- bright fuchsia\n",
      "2 ----------------------------------------------------- plaid bronze\n",
      "2 ** wavy yellow\n",
      "['1', '4', '1', '2', '4', '2', '4', '2', '2', '2', '3', '2', '4', '3', '5', '3', '5', '4', '2']\n",
      "2 ----------------------------------------------------- bright fuchsia\n",
      "3 ** wavy yellow\n",
      "['1', '4', '1', '2', '4', '2', '4', '2', '2', '2', '3', '2', '4', '3', '5', '3', '5', '4', '2']\n",
      "2 ----------------------------------------------------- wavy indigo\n",
      "4 ----------------------------------------------------- dark aqua\n",
      "3 ----------------------------------------------------- dotted brown\n",
      "5 ----------------------------------------------------- muted crimson\n",
      "3 ** shiny blue\n",
      "['1', '4', '1', '2', '4', '2', '4', '2', '2', '2', '3', '2', '4', '3', '5', '3', '5', '4', '2']\n",
      "5 ----------------------------------------------------- clear plum\n",
      "4 ** faded black\n",
      "['1', '4', '1', '2', '4', '2', '4', '2', '2', '2', '3', '2', '4', '3', '5', '3', '5', '4', '2']\n",
      "2 ** dim crimson\n",
      "['1', '4', '1', '2', '4', '2', '4', '2', '2', '2', '3', '2', '4', '3', '5', '3', '5', '4', '2']\n",
      "1 ----------------------------------------------------- light tomato\n",
      "2 ----------------------------------------------------- muted crimson\n",
      "4 ----------------------------------------------------- plaid bronze\n",
      "4 ** faded tomato\n",
      "['1', '2', '4', '4', '2', '4', '2', '2', '3', '3', '3', '2', '4', '3', '5', '3', '5', '4', '2']\n",
      "2 ** drab magenta\n",
      "['1', '2', '4', '4', '2', '4', '2', '2', '3', '3', '3', '2', '4', '3', '5', '3', '5', '4', '2']\n",
      "4 ** dim plum\n",
      "['1', '2', '4', '4', '2', '4', '2', '2', '3', '3', '3', '2', '4', '3', '5', '3', '5', '4', '2']\n",
      "2 ----------------------------------------------------- bright fuchsia\n",
      "2 ----------------------------------------------------- plaid bronze\n",
      "3 ----------------------------------------------------- light tomato\n",
      "3 ----------------------------------------------------- light tomato\n",
      "3 ** wavy yellow\n",
      "['1', '2', '4', '4', '2', '4', '2', '2', '3', '3', '3', '2', '4', '3', '5', '3', '5', '4', '2']\n",
      "2 ----------------------------------------------------- bright fuchsia\n",
      "4 ----------------------------------------------------- wavy indigo\n",
      "3 ----------------------------------------------------- dark aqua\n",
      "5 ----------------------------------------------------- dotted brown\n",
      "3 ----------------------------------------------------- muted crimson\n",
      "5 ** vibrant magenta\n",
      "['1', '2', '4', '4', '2', '4', '2', '2', '3', '3', '3', '2', '4', '3', '5', '3', '5', '4', '2']\n",
      "4 ** plaid cyan\n",
      "['1', '2', '4', '4', '2', '4', '2', '2', '3', '3', '3', '2', '4', '3', '5', '3', '5', '4', '2']\n",
      "2 ----------------------------------------------------- muted crimson\n",
      "1 ----------------------------------------------------- clear maroon\n",
      "2 ----------------------------------------------------- dark aqua\n",
      "4 ----------------------------------------------------- bright fuchsia\n",
      "4 ----------------------------------------------------- plaid bronze\n",
      "2 ----------------------------------------------------- clear maroon\n",
      "4 ----------------------------------------------------- wavy indigo\n",
      "2 ----------------------------------------------------- plaid bronze\n",
      "2 ----------------------------------------------------- light tomato\n",
      "3 ** wavy yellow\n",
      "['1', '2', '4', '4', '2', '4', '2', '2', '3', '3', '2', '3', '5', '4', '5', '1', '2']\n",
      "3 ----------------------------------------------------- bright fuchsia\n",
      "2 ----------------------------------------------------- wavy indigo\n",
      "3 ----------------------------------------------------- dark aqua\n",
      "5 ----------------------------------------------------- dotted brown\n",
      "4 ----------------------------------------------------- muted crimson\n",
      "5 ** vibrant magenta\n",
      "['1', '2', '4', '4', '2', '4', '2', '2', '3', '3', '2', '3', '5', '4', '5', '1', '2']\n",
      "1 ** plaid cyan\n",
      "['1', '2', '4', '4', '2', '4', '2', '2', '3', '3', '2', '3', '5', '4', '5', '1', '2']\n",
      "2 ----------------------------------------------------- muted crimson\n",
      "3 ----------------------------------------------------- clear maroon\n",
      "2 ----------------------------------------------------- dark aqua\n",
      "3 ----------------------------------------------------- bright fuchsia\n",
      "5 ----------------------------------------------------- plaid bronze\n",
      "4 ----------------------------------------------------- clear maroon\n",
      "5 ----------------------------------------------------- wavy indigo\n",
      "1 ----------------------------------------------------- plaid bronze\n",
      "2 ----------------------------------------------------- light tomato\n",
      "58\n"
     ]
    }
   ],
   "source": [
    "id_shiny=R_bag.index('shiny gold')   \n",
    "R_shinyContains=R_inbag[id_shiny]\n",
    "Num=Rnum_inbag[id_shiny]\n",
    "print(Num)\n",
    "Sum=0\n",
    "for lo in range(0,20):\n",
    "    R=[]\n",
    "    num=[]\n",
    "    \n",
    "    for i in range(0,len(R_shinyContains)):\n",
    "        x=R_shinyContains[i]\n",
    "                \n",
    "        if x in Collections_stop:\n",
    "           Sum=Sum+1; \n",
    "           print(Num[i],'-----------------------------------------------------',x)\n",
    "        else:\n",
    "            print(Num[i],'**',x)\n",
    "            id=R_bag.index(x)\n",
    "            tem=(R_inbag[id])\n",
    "            num_tem=Rnum_inbag[id]\n",
    "            print(Num)\n",
    "            #Sum=Sum+sum(map(int, Num))\n",
    "            R=tem+R\n",
    "            num=num+num_tem\n",
    "            \n",
    "                                  \n",
    "    R_shinyContains=R\n",
    "    Num=num\n",
    "        \n",
    "print(Sum)       \n",
    " "
   ]
  },
  {
   "cell_type": "code",
   "execution_count": null,
   "metadata": {},
   "outputs": [],
   "source": []
  }
 ],
 "metadata": {
  "kernelspec": {
   "display_name": "Python 3",
   "language": "python",
   "name": "python3"
  },
  "language_info": {
   "codemirror_mode": {
    "name": "ipython",
    "version": 3
   },
   "file_extension": ".py",
   "mimetype": "text/x-python",
   "name": "python",
   "nbconvert_exporter": "python",
   "pygments_lexer": "ipython3",
   "version": "3.7.6"
  }
 },
 "nbformat": 4,
 "nbformat_minor": 4
}
