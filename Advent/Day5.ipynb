{
 "cells": [
  {
   "cell_type": "code",
   "execution_count": 59,
   "metadata": {},
   "outputs": [],
   "source": [
    "import pandas as pd\n",
    "import numpy as np\n",
    "import re\n",
    "df=pd.read_excel('D:/DataScience/Advent/Day5.xlsx', header=None,skip_blank_lines=False)\n",
    "data_list=df.to_numpy()"
   ]
  },
  {
   "cell_type": "code",
   "execution_count": 67,
   "metadata": {},
   "outputs": [
    {
     "data": {
      "text/plain": [
       "906"
      ]
     },
     "execution_count": 67,
     "metadata": {},
     "output_type": "execute_result"
    }
   ],
   "source": [
    "Sum=[];\n",
    "for i in range(len(data_list)):\n",
    "    x=data_list[i]\n",
    "    x=np.array_str(x)\n",
    "    index_F=[m.start() for m in re.finditer('F', x)]\n",
    "    index_B=[m.start() for m in re.finditer('B', x)]\n",
    "    index_L=[m.start() for m in re.finditer('L', x)]\n",
    "    index_R=[m.start() for m in re.finditer('R', x)]\n",
    "    \n",
    "    index_F = list(map(int, index_F))\n",
    "    index_B = list(map(int, index_B))\n",
    "    index_L = list(map(int, index_L))\n",
    "    index_R = list(map(int, index_R))\n",
    "    \n",
    "    sum_row=0\n",
    "    for j in range(0,len(index_B)):\n",
    "        id=index_B[j]-2\n",
    "        sum_row=sum_row+pow(2,7-id-1)\n",
    "        \n",
    "    sum_column=0\n",
    "    for j in range(0,len(index_R)):\n",
    "        id=index_R[j]-8\n",
    "        sum_column=sum_column+pow(2,3-id)\n",
    "        \n",
    "    Sum.append(sum_row*8+sum_column)\n",
    "\n",
    "max(Sum)\n",
    " "
   ]
  },
  {
   "cell_type": "code",
   "execution_count": 85,
   "metadata": {},
   "outputs": [
    {
     "ename": "AttributeError",
     "evalue": "'tuple' object has no attribute 'value'",
     "output_type": "error",
     "traceback": [
      "\u001b[1;31m---------------------------------------------------------------------------\u001b[0m",
      "\u001b[1;31mAttributeError\u001b[0m                            Traceback (most recent call last)",
      "\u001b[1;32m<ipython-input-85-f6fb11fb0fe1>\u001b[0m in \u001b[0;36m<module>\u001b[1;34m\u001b[0m\n\u001b[0;32m      3\u001b[0m \u001b[0marr_dif\u001b[0m\u001b[1;33m=\u001b[0m\u001b[0mnp\u001b[0m\u001b[1;33m.\u001b[0m\u001b[0mdiff\u001b[0m\u001b[1;33m(\u001b[0m\u001b[0marr\u001b[0m\u001b[1;33m)\u001b[0m\u001b[1;33m\u001b[0m\u001b[1;33m\u001b[0m\u001b[0m\n\u001b[0;32m      4\u001b[0m \u001b[0mid_index\u001b[0m\u001b[1;33m=\u001b[0m\u001b[0mnp\u001b[0m\u001b[1;33m.\u001b[0m\u001b[0mwhere\u001b[0m\u001b[1;33m(\u001b[0m\u001b[0marr_dif\u001b[0m\u001b[1;33m==\u001b[0m\u001b[1;36m2\u001b[0m\u001b[1;33m)\u001b[0m\u001b[1;33m\u001b[0m\u001b[1;33m\u001b[0m\u001b[0m\n\u001b[1;32m----> 5\u001b[1;33m \u001b[0mprint\u001b[0m\u001b[1;33m(\u001b[0m\u001b[0mSum\u001b[0m\u001b[1;33m[\u001b[0m\u001b[0mid_index\u001b[0m\u001b[1;33m.\u001b[0m\u001b[0mvalue\u001b[0m\u001b[1;33m-\u001b[0m\u001b[1;36m1\u001b[0m\u001b[1;33m]\u001b[0m\u001b[1;33m,\u001b[0m\u001b[0mSum\u001b[0m\u001b[1;33m[\u001b[0m\u001b[0mid_index\u001b[0m\u001b[1;33m]\u001b[0m\u001b[1;33m,\u001b[0m\u001b[0mSum\u001b[0m\u001b[1;33m[\u001b[0m\u001b[0mid_index\u001b[0m\u001b[1;33m+\u001b[0m\u001b[1;36m1\u001b[0m\u001b[1;33m]\u001b[0m\u001b[1;33m)\u001b[0m\u001b[1;33m\u001b[0m\u001b[1;33m\u001b[0m\u001b[0m\n\u001b[0m",
      "\u001b[1;31mAttributeError\u001b[0m: 'tuple' object has no attribute 'value'"
     ]
    }
   ],
   "source": [
    "# part2\n",
    "arr = np.array(Sum)\n",
    "arr_dif=np.diff(arr)\n",
    "id_index=np.where(arr_dif==2)\n",
    "print(Sum[462],Sum[463],Sum[464])"
   ]
  },
  {
   "cell_type": "code",
   "execution_count": null,
   "metadata": {},
   "outputs": [],
   "source": []
  }
 ],
 "metadata": {
  "kernelspec": {
   "display_name": "Python 3",
   "language": "python",
   "name": "python3"
  },
  "language_info": {
   "codemirror_mode": {
    "name": "ipython",
    "version": 3
   },
   "file_extension": ".py",
   "mimetype": "text/x-python",
   "name": "python",
   "nbconvert_exporter": "python",
   "pygments_lexer": "ipython3",
   "version": "3.7.6"
  }
 },
 "nbformat": 4,
 "nbformat_minor": 4
}
